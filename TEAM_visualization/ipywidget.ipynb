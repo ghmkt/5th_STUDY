{
 "cells": [
  {
   "cell_type": "markdown",
   "metadata": {},
   "source": [
    "# Ipywidget을 활용한 interactive EDA\n",
    "Growth Hackers 2019-2 시각화 스터디 후반부\n",
    "- 참여자: 이경 찬영 현영\n",
    "- 기간: 2019/10/01 ~ 10/10\n",
    "- 참고: https://towardsdatascience.com/interactive-controls-for-jupyter-notebooks-f5c94829aee6"
   ]
  },
  {
   "cell_type": "code",
   "execution_count": 1,
   "metadata": {},
   "outputs": [],
   "source": [
    "import ipywidgets as widgets\n",
    "from ipywidgets import interact, interact_manual\n",
    "\n",
    "import seaborn as sns\n",
    "import pandas as pd"
   ]
  },
  {
   "cell_type": "code",
   "execution_count": 2,
   "metadata": {},
   "outputs": [
    {
     "data": {
      "text/html": [
       "<div>\n",
       "<style scoped>\n",
       "    .dataframe tbody tr th:only-of-type {\n",
       "        vertical-align: middle;\n",
       "    }\n",
       "\n",
       "    .dataframe tbody tr th {\n",
       "        vertical-align: top;\n",
       "    }\n",
       "\n",
       "    .dataframe thead th {\n",
       "        text-align: right;\n",
       "    }\n",
       "</style>\n",
       "<table border=\"1\" class=\"dataframe\">\n",
       "  <thead>\n",
       "    <tr style=\"text-align: right;\">\n",
       "      <th></th>\n",
       "      <th>total_bill</th>\n",
       "      <th>tip</th>\n",
       "      <th>sex</th>\n",
       "      <th>smoker</th>\n",
       "      <th>day</th>\n",
       "      <th>time</th>\n",
       "      <th>size</th>\n",
       "    </tr>\n",
       "  </thead>\n",
       "  <tbody>\n",
       "    <tr>\n",
       "      <th>0</th>\n",
       "      <td>16.99</td>\n",
       "      <td>1.01</td>\n",
       "      <td>Female</td>\n",
       "      <td>No</td>\n",
       "      <td>Sun</td>\n",
       "      <td>Dinner</td>\n",
       "      <td>2</td>\n",
       "    </tr>\n",
       "    <tr>\n",
       "      <th>1</th>\n",
       "      <td>10.34</td>\n",
       "      <td>1.66</td>\n",
       "      <td>Male</td>\n",
       "      <td>No</td>\n",
       "      <td>Sun</td>\n",
       "      <td>Dinner</td>\n",
       "      <td>3</td>\n",
       "    </tr>\n",
       "    <tr>\n",
       "      <th>2</th>\n",
       "      <td>21.01</td>\n",
       "      <td>3.50</td>\n",
       "      <td>Male</td>\n",
       "      <td>No</td>\n",
       "      <td>Sun</td>\n",
       "      <td>Dinner</td>\n",
       "      <td>3</td>\n",
       "    </tr>\n",
       "    <tr>\n",
       "      <th>3</th>\n",
       "      <td>23.68</td>\n",
       "      <td>3.31</td>\n",
       "      <td>Male</td>\n",
       "      <td>No</td>\n",
       "      <td>Sun</td>\n",
       "      <td>Dinner</td>\n",
       "      <td>2</td>\n",
       "    </tr>\n",
       "    <tr>\n",
       "      <th>4</th>\n",
       "      <td>24.59</td>\n",
       "      <td>3.61</td>\n",
       "      <td>Female</td>\n",
       "      <td>No</td>\n",
       "      <td>Sun</td>\n",
       "      <td>Dinner</td>\n",
       "      <td>4</td>\n",
       "    </tr>\n",
       "  </tbody>\n",
       "</table>\n",
       "</div>"
      ],
      "text/plain": [
       "   total_bill   tip     sex smoker  day    time  size\n",
       "0       16.99  1.01  Female     No  Sun  Dinner     2\n",
       "1       10.34  1.66    Male     No  Sun  Dinner     3\n",
       "2       21.01  3.50    Male     No  Sun  Dinner     3\n",
       "3       23.68  3.31    Male     No  Sun  Dinner     2\n",
       "4       24.59  3.61  Female     No  Sun  Dinner     4"
      ]
     },
     "execution_count": 2,
     "metadata": {},
     "output_type": "execute_result"
    }
   ],
   "source": [
    "df = sns.load_dataset('tips')\n",
    "df.head()"
   ]
  },
  {
   "cell_type": "markdown",
   "metadata": {},
   "source": [
    "## Interactive Data Selection\n",
    "### `interact`\n",
    "1. 함수로 활용  \n",
    ": function을 arguement로 받으며, 해당 function이 필요로하는 파라미터를 추가적으로 받은 뒤 function을 __호출__\n",
    "2. 데코레이터로 활용  \n",
    ": function 정의하고 interact 함수 또 호출 하는 게 귀찮다! => 데코레이터로 한 번에  \n",
    "  \n",
    "### basics\n",
    "- interact를 사용할 때는 모든 파라미터의 default 값을 지정해줘야 한다(non-default argument follows default argument)\n",
    "- default 값을 무엇으로 주는냐에 따라 slider의 범위가 바뀐다. slider 범위는 column 상관 없이 고정 --> default에 범위가 가장 포괄적인 column을 넣어줘야 다른 column에도 쓸 수 있다\n",
    "- interact하는 변수들은 기본적으로 categorical이면 text box, numeric이면 slider"
   ]
  },
  {
   "cell_type": "code",
   "execution_count": 3,
   "metadata": {},
   "outputs": [
    {
     "data": {
      "application/vnd.jupyter.widget-view+json": {
       "model_id": "bc5e435bd5b14724a07cce21ae2ec0d0",
       "version_major": 2,
       "version_minor": 0
      },
      "text/plain": [
       "interactive(children=(Text(value='total_bill', description='column'), IntSlider(value=20, description='x', max…"
      ]
     },
     "metadata": {},
     "output_type": "display_data"
    }
   ],
   "source": [
    "@interact\n",
    "def show_articles_more_than(column='total_bill', x=20):\n",
    "    return df.loc[df[column] > x]"
   ]
  },
  {
   "cell_type": "markdown",
   "metadata": {},
   "source": [
    "### sliders with specification of arguments\n",
    "- categorical variable에 텍스트박스 대신 dropdown 메뉴: `paramenter_name = [ 변수명1, 변수명2, ... ]`  \n",
    "- 슬라이더 상세설정: `x = (시작 값, 끝 값, 간격)`"
   ]
  },
  {
   "cell_type": "code",
   "execution_count": 4,
   "metadata": {
    "scrolled": true
   },
   "outputs": [
    {
     "data": {
      "application/vnd.jupyter.widget-view+json": {
       "model_id": "7b1a34d943fd425c86d7dd675cd6834c",
       "version_major": 2,
       "version_minor": 0
      },
      "text/plain": [
       "interactive(children=(Dropdown(description='column', options=('total_bill', 'tip', 'size'), value='total_bill'…"
      ]
     },
     "metadata": {},
     "output_type": "display_data"
    }
   ],
   "source": [
    "@interact\n",
    "def show_items_more_than(column=['total_bill', 'tip', 'size'],\n",
    "                            x=(0, 50, 1)):\n",
    "    return df.loc[df[column] > x]"
   ]
  },
  {
   "cell_type": "markdown",
   "metadata": {},
   "source": [
    "## Interactive Plotting\n",
    "selecting과 동일하게 `interact` 데코레이터를 쓴 후 함수 정의만 해줘도 그래프가 바로 찍힌다"
   ]
  },
  {
   "cell_type": "code",
   "execution_count": 5,
   "metadata": {},
   "outputs": [
    {
     "data": {
      "text/plain": [
       "Index(['total_bill', 'tip', 'size'], dtype='object')"
      ]
     },
     "execution_count": 5,
     "metadata": {},
     "output_type": "execute_result"
    }
   ],
   "source": [
    "# numeric column만 선택하기\n",
    "df.select_dtypes('number').columns"
   ]
  },
  {
   "cell_type": "code",
   "execution_count": 6,
   "metadata": {},
   "outputs": [
    {
     "data": {
      "application/vnd.jupyter.widget-view+json": {
       "model_id": "edc7a4a210654a409469043c90073a8a",
       "version_major": 2,
       "version_minor": 0
      },
      "text/plain": [
       "interactive(children=(Dropdown(description='x', options=('total_bill', 'tip', 'size'), value='total_bill'), Dr…"
      ]
     },
     "metadata": {},
     "output_type": "display_data"
    }
   ],
   "source": [
    "# 하이퍼 파라미터에 칼럼 명의 리스트를 전달하여 dropdown 메뉴로 나타나도록\n",
    "@interact\n",
    "def scatter_plot(x=list(df.select_dtypes('number').columns),\n",
    "                 y=list(df.select_dtypes('number').columns),\n",
    "                 hue = list(df.columns),\n",
    "                 size = list(df.columns)):\n",
    "\n",
    "    sns.relplot(kind='scatter', x = x, y = y, hue = hue, size = size, height = 6, aspect = 1.2, data = df)"
   ]
  },
  {
   "cell_type": "code",
   "execution_count": 7,
   "metadata": {},
   "outputs": [
    {
     "data": {
      "text/plain": [
       "Index(['sex', 'smoker', 'day', 'time'], dtype='object')"
      ]
     },
     "execution_count": 7,
     "metadata": {},
     "output_type": "execute_result"
    }
   ],
   "source": [
    "# numeric이 아닌 = categorical 칼럼 선택하기\n",
    "df.select_dtypes(exclude=[\"number\"]).columns"
   ]
  },
  {
   "cell_type": "code",
   "execution_count": 9,
   "metadata": {},
   "outputs": [
    {
     "data": {
      "application/vnd.jupyter.widget-view+json": {
       "model_id": "1d8a79f4492a44e1a2576e67e71b1cbe",
       "version_major": 2,
       "version_minor": 0
      },
      "text/plain": [
       "interactive(children=(Dropdown(description='x', options=('total_bill', 'tip', 'size'), value='total_bill'), Dr…"
      ]
     },
     "metadata": {},
     "output_type": "display_data"
    }
   ],
   "source": [
    "# use seaborn\n",
    "# add categorical hue\n",
    "@interact\n",
    "def scatter_plot(x=list(df.select_dtypes('number').columns),\n",
    "                 y=list(df.select_dtypes('number').columns),\n",
    "                 cat=list(df.select_dtypes(exclude=[\"number\"]).columns)):\n",
    "    \n",
    "    sns.relplot(x=x, y=y, hue=cat, palette=\"ch:r=-.5,l=.75\", data=df)"
   ]
  },
  {
   "cell_type": "markdown",
   "metadata": {},
   "source": [
    "## Datetime Picker"
   ]
  },
  {
   "cell_type": "markdown",
   "metadata": {},
   "source": [
    "### 기존의 데이터에 datetime column 추가\n",
    "- datetime picker는 datetime 형태의 칼럼에 `widgets.DatePicker(value=pd.to_datetime('2019-01-01'))` 형태로 날짜 선택기를 넣어준다\n",
    "- 원 데이터 프레임의 column도 datetime object여야한다. 아니었다면 `pd.to_datetime`으로 바꿔주기!\n",
    "```python\n",
    "pd.to_datetime('13000101', format='%Y%m%d', errors='ignore')\n",
    "# => datetime.datetime(1300, 1, 1, 0, 0)\n",
    "```"
   ]
  },
  {
   "cell_type": "code",
   "execution_count": 12,
   "metadata": {},
   "outputs": [],
   "source": [
    "# function to generate random datetime objects\n",
    "import random\n",
    "import time\n",
    "\n",
    "def str_time_prop(start, end, format, prop):\n",
    "    \"\"\"Get a time at a proportion of a range of two formatted times.\n",
    "\n",
    "    start and end should be strings specifying times formated in the\n",
    "    given format (strftime-style), giving an interval [start, end].\n",
    "    prop specifies how a proportion of the interval to be taken after\n",
    "    start.  The returned time will be in the specified format.\n",
    "    \"\"\"\n",
    "\n",
    "    stime = time.mktime(time.strptime(start, format))\n",
    "    etime = time.mktime(time.strptime(end, format))\n",
    "\n",
    "    ptime = stime + prop * (etime - stime)\n",
    "\n",
    "    return time.strftime(format, time.localtime(ptime))\n",
    "\n",
    "\n",
    "def random_date(start, end, prop):\n",
    "    return str_time_prop(start, end, '%Y-%m-%d', prop)"
   ]
  },
  {
   "cell_type": "code",
   "execution_count": 13,
   "metadata": {},
   "outputs": [
    {
     "data": {
      "text/plain": [
       "'2019-01-23'"
      ]
     },
     "execution_count": 13,
     "metadata": {},
     "output_type": "execute_result"
    }
   ],
   "source": [
    "# test random_date function\n",
    "random_date(\"2019-01-01\", \"2019-06-30\", random.random())"
   ]
  },
  {
   "cell_type": "code",
   "execution_count": 15,
   "metadata": {},
   "outputs": [
    {
     "data": {
      "text/html": [
       "<div>\n",
       "<style scoped>\n",
       "    .dataframe tbody tr th:only-of-type {\n",
       "        vertical-align: middle;\n",
       "    }\n",
       "\n",
       "    .dataframe tbody tr th {\n",
       "        vertical-align: top;\n",
       "    }\n",
       "\n",
       "    .dataframe thead th {\n",
       "        text-align: right;\n",
       "    }\n",
       "</style>\n",
       "<table border=\"1\" class=\"dataframe\">\n",
       "  <thead>\n",
       "    <tr style=\"text-align: right;\">\n",
       "      <th></th>\n",
       "      <th>total_bill</th>\n",
       "      <th>tip</th>\n",
       "      <th>sex</th>\n",
       "      <th>smoker</th>\n",
       "      <th>day</th>\n",
       "      <th>time</th>\n",
       "      <th>size</th>\n",
       "      <th>date</th>\n",
       "    </tr>\n",
       "  </thead>\n",
       "  <tbody>\n",
       "    <tr>\n",
       "      <th>0</th>\n",
       "      <td>16.99</td>\n",
       "      <td>1.01</td>\n",
       "      <td>Female</td>\n",
       "      <td>No</td>\n",
       "      <td>Sun</td>\n",
       "      <td>Dinner</td>\n",
       "      <td>2</td>\n",
       "      <td>2019-02-01</td>\n",
       "    </tr>\n",
       "    <tr>\n",
       "      <th>1</th>\n",
       "      <td>10.34</td>\n",
       "      <td>1.66</td>\n",
       "      <td>Male</td>\n",
       "      <td>No</td>\n",
       "      <td>Sun</td>\n",
       "      <td>Dinner</td>\n",
       "      <td>3</td>\n",
       "      <td>2019-04-29</td>\n",
       "    </tr>\n",
       "    <tr>\n",
       "      <th>2</th>\n",
       "      <td>21.01</td>\n",
       "      <td>3.50</td>\n",
       "      <td>Male</td>\n",
       "      <td>No</td>\n",
       "      <td>Sun</td>\n",
       "      <td>Dinner</td>\n",
       "      <td>3</td>\n",
       "      <td>2019-02-14</td>\n",
       "    </tr>\n",
       "    <tr>\n",
       "      <th>3</th>\n",
       "      <td>23.68</td>\n",
       "      <td>3.31</td>\n",
       "      <td>Male</td>\n",
       "      <td>No</td>\n",
       "      <td>Sun</td>\n",
       "      <td>Dinner</td>\n",
       "      <td>2</td>\n",
       "      <td>2019-01-12</td>\n",
       "    </tr>\n",
       "    <tr>\n",
       "      <th>4</th>\n",
       "      <td>24.59</td>\n",
       "      <td>3.61</td>\n",
       "      <td>Female</td>\n",
       "      <td>No</td>\n",
       "      <td>Sun</td>\n",
       "      <td>Dinner</td>\n",
       "      <td>4</td>\n",
       "      <td>2019-04-17</td>\n",
       "    </tr>\n",
       "  </tbody>\n",
       "</table>\n",
       "</div>"
      ],
      "text/plain": [
       "   total_bill   tip     sex smoker  day    time  size       date\n",
       "0       16.99  1.01  Female     No  Sun  Dinner     2 2019-02-01\n",
       "1       10.34  1.66    Male     No  Sun  Dinner     3 2019-04-29\n",
       "2       21.01  3.50    Male     No  Sun  Dinner     3 2019-02-14\n",
       "3       23.68  3.31    Male     No  Sun  Dinner     2 2019-01-12\n",
       "4       24.59  3.61  Female     No  Sun  Dinner     4 2019-04-17"
      ]
     },
     "execution_count": 15,
     "metadata": {},
     "output_type": "execute_result"
    }
   ],
   "source": [
    "# make a new column \n",
    "date = [random_date(\"2019-01-01\", \"2019-06-30\", random.random()) for i in range(len(df))]\n",
    "df['date'] = pd.to_datetime(date)\n",
    "df.head()"
   ]
  },
  {
   "cell_type": "markdown",
   "metadata": {},
   "source": [
    "### 위젯 사용하기"
   ]
  },
  {
   "cell_type": "code",
   "execution_count": 35,
   "metadata": {},
   "outputs": [
    {
     "data": {
      "text/plain": [
       "ipywidgets.widgets.widget_date.DatePicker"
      ]
     },
     "execution_count": 35,
     "metadata": {},
     "output_type": "execute_result"
    }
   ],
   "source": [
    "widgets.DatePicker(value=pd.to_datetime('2019-01-01'))"
   ]
  },
  {
   "cell_type": "code",
   "execution_count": 16,
   "metadata": {},
   "outputs": [
    {
     "data": {
      "application/vnd.jupyter.widget-view+json": {
       "model_id": "8d857dda0101413c9c885283312ee3bc",
       "version_major": 2,
       "version_minor": 0
      },
      "text/plain": [
       "interactive(children=(DatePicker(value=Timestamp('2019-01-01 00:00:00'), description='start_date'), DatePicker…"
      ]
     },
     "metadata": {},
     "output_type": "display_data"
    }
   ],
   "source": [
    "# 방법 1 - 함수 안에서 위젯쓰기\n",
    "@interact\n",
    "def print_datetime(start_date=widgets.DatePicker(value=pd.to_datetime('2019-01-01')),\n",
    "        end_date=widgets.DatePicker(value=pd.to_datetime('2019-06-30'))):\n",
    "    \n",
    "    data = df[(df['date'] >= start_date) & (df['date'] <= end_date)]\n",
    "    print(data.head())"
   ]
  },
  {
   "cell_type": "code",
   "execution_count": 58,
   "metadata": {
    "scrolled": true
   },
   "outputs": [
    {
     "data": {
      "application/vnd.jupyter.widget-view+json": {
       "model_id": "a492d6e036a84944b51ac27e7137b435",
       "version_major": 2,
       "version_minor": 0
      },
      "text/plain": [
       "interactive(children=(DatePicker(value=Timestamp('2019-01-01 00:00:00'), description='start_date'), DatePicker…"
      ]
     },
     "execution_count": 58,
     "metadata": {},
     "output_type": "execute_result"
    }
   ],
   "source": [
    "# 방법 2 - 따로 함수를 지정한 뒤, interact에 함수를 변수로 전달하기\n",
    "# datetime 두 개를 파라미터로 받는 함수가 여러개 있으면 재사용\n",
    "def print_datetime(start_date, end_date):\n",
    "    data = df[(df['date'] >= start_date) & (df['date'] <= end_date)]\n",
    "    print(data.head())\n",
    "\n",
    "# _에 할당 왜 해줬는지? 할당 해도 안해도 결과가 뜨는 건 똑같다\n",
    "_ = interact(print_datetime,\n",
    "        start_date=widgets.DatePicker(value=pd.to_datetime('2019-01-01')),\n",
    "        end_date=widgets.DatePicker(value=pd.to_datetime('2019-06-30')))"
   ]
  },
  {
   "cell_type": "markdown",
   "metadata": {},
   "source": [
    "### 실험"
   ]
  },
  {
   "cell_type": "code",
   "execution_count": 66,
   "metadata": {},
   "outputs": [
    {
     "name": "stdout",
     "output_type": "stream",
     "text": [
      "<function print_datetime at 0x7fcaf83980d0>\n"
     ]
    }
   ],
   "source": [
    "# function object 그 자체를 저장한 오브젝트. 그래프가 보여지고 말고는 이것을 return하는 것과 관계 없다\n",
    "_"
   ]
  },
  {
   "cell_type": "code",
   "execution_count": 68,
   "metadata": {},
   "outputs": [
    {
     "data": {
      "application/vnd.jupyter.widget-view+json": {
       "model_id": "598747265619478195fdb891085b5855",
       "version_major": 2,
       "version_minor": 0
      },
      "text/plain": [
       "interactive(children=(DatePicker(value=Timestamp('2019-01-01 00:00:00'), description='start_date'), DatePicker…"
      ]
     },
     "execution_count": 68,
     "metadata": {},
     "output_type": "execute_result"
    },
    {
     "data": {
      "text/plain": [
       "<function __main__.print_datetime(start_date, end_date)>"
      ]
     },
     "execution_count": 68,
     "metadata": {},
     "output_type": "execute_result"
    }
   ],
   "source": [
    "# 위의 interact를 함수를 받을 수 있는 함수로 변환\n",
    "def datetime_interactor(f):\n",
    "    # return을 해도 안해도 picker와 head를 보여주는 것 동일\n",
    "    # return을 할 경우 <function .. 어쩌구 해서 interact object자체를 출력함\n",
    "    return interact(f,\n",
    "        start_date=widgets.DatePicker(value=pd.to_datetime('2019-01-01')),\n",
    "        end_date=widgets.DatePicker(value=pd.to_datetime('2019-06-30')))\n",
    "\n",
    "datetime_interactor(print_datetime)"
   ]
  },
  {
   "cell_type": "markdown",
   "metadata": {},
   "source": [
    "`interact`는 먼가 특성이 다른 듯 다른 변수랑..."
   ]
  },
  {
   "cell_type": "markdown",
   "metadata": {},
   "source": [
    "## Hover Interaction"
   ]
  },
  {
   "cell_type": "markdown",
   "metadata": {},
   "source": [
    "###### `pd.Timestamp`란  \n",
    "https://pandas.pydata.org/pandas-docs/version/0.23.4/generated/pandas.Timestamp.html\n",
    "- python 내장 datetime과 비슷한데 TimestampIndex를 만들기 위해 <--먼말?\n",
    "\n",
    "###### plotly  \n",
    "https://plot.ly/python/hover-text-and-formatting/"
   ]
  },
  {
   "cell_type": "code",
   "execution_count": 17,
   "metadata": {},
   "outputs": [
    {
     "data": {
      "text/html": [
       "        <script type=\"text/javascript\">\n",
       "        window.PlotlyConfig = {MathJaxConfig: 'local'};\n",
       "        if (window.MathJax) {MathJax.Hub.Config({SVG: {font: \"STIX-Web\"}});}\n",
       "        if (typeof require !== 'undefined') {\n",
       "        require.undef(\"plotly\");\n",
       "        requirejs.config({\n",
       "            paths: {\n",
       "                'plotly': ['https://cdn.plot.ly/plotly-latest.min']\n",
       "            }\n",
       "        });\n",
       "        require(['plotly'], function(Plotly) {\n",
       "            window._Plotly = Plotly;\n",
       "        });\n",
       "        }\n",
       "        </script>\n",
       "        "
      ]
     },
     "metadata": {},
     "output_type": "display_data"
    },
    {
     "data": {
      "application/vnd.jupyter.widget-view+json": {
       "model_id": "fe48af3b458444839e656056a08ce168",
       "version_major": 2,
       "version_minor": 0
      },
      "text/plain": [
       "interactive(children=(Dropdown(description='column', options=('total_bill', 'tip', 'size'), value='total_bill'…"
      ]
     },
     "metadata": {},
     "output_type": "display_data"
    }
   ],
   "source": [
    "import ipywidgets as widgets\n",
    "from ipywidgets import interact, interact_manual\n",
    "import seaborn as sns\n",
    "import pandas as pd\n",
    "\n",
    "import cufflinks as cf\n",
    "cf.go_offline()\n",
    "cf.set_config_file(offline=False, world_readable=True)\n",
    "\n",
    "def plot_up_to(column, date):\n",
    "    date = pd.Timestamp(date) \n",
    "    plot_df = df.loc[df['date'] <= date].copy() # 해당하는 날짜까지만 df 선택하기\n",
    "    plot_df[column].cumsum().iplot(mode='markers+lines',\n",
    "                                   xTitle='date for bills',\n",
    "                                   yTitle=column,\n",
    "                                  title=f'Cumulative {column.title()} Until {date.date()}') # 타이틀에 선택된 칼럼 및 날짜 string으로 넣기\n",
    "    \n",
    "_ = interact(plot_up_to, column=widgets.Dropdown(options=list(df.select_dtypes('number').columns)), \n",
    "             date = widgets.DatePicker(value=pd.to_datetime('2019-03-01')))"
   ]
  }
 ],
 "metadata": {
  "kernelspec": {
   "display_name": "Python 3",
   "language": "python",
   "name": "python3"
  },
  "language_info": {
   "codemirror_mode": {
    "name": "ipython",
    "version": 3
   },
   "file_extension": ".py",
   "mimetype": "text/x-python",
   "name": "python",
   "nbconvert_exporter": "python",
   "pygments_lexer": "ipython3",
   "version": "3.6.5"
  }
 },
 "nbformat": 4,
 "nbformat_minor": 1
}
